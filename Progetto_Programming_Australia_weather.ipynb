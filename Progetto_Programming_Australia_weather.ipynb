{
  "cells": [
    {
      "cell_type": "markdown",
      "metadata": {
        "colab_type": "text",
        "id": "view-in-github"
      },
      "source": [
        "<a href=\"https://colab.research.google.com/github/lorenzosquassoni/Programming-Lectures-UNIVR/blob/main/Progetto_Programming_Australia_weather.ipynb\" target=\"_parent\"><img src=\"https://colab.research.google.com/assets/colab-badge.svg\" alt=\"Open In Colab\"/></a>"
      ]
    },
    {
      "cell_type": "markdown",
      "metadata": {},
      "source": [
        "Australia weather 2007-2017\n",
        "\n",
        "Dataset from https://www.kaggle.com/datasets/jsphyg/weather-dataset-rattle-package"
      ]
    },
    {
      "cell_type": "markdown",
      "metadata": {},
      "source": [
        "* Location: the common name of the location of the weather station\n",
        "* MinTemp: the minimum temperature in degrees celsius\n",
        "* MaxTemp: the maximum temperature in degrees celsius\n",
        "* Rainfall: the amount of rainfall recorded for the day in mm\n",
        "* Evaporation: evaporation (mm) in the 24 hours to 9am\n",
        "* Sunshine: the number of hours of bright sunshine in the day\n",
        "* WindGusDir: the direction of the strongest wind gust in the 24 hours to midnight\n",
        "* WindGuSpeed: the speed (km/h) of the strongest wind gust in the 24 hours to midnight\n",
        "* WindDir9am: direction of the wind at 9am\n",
        "* WindDir3pm: direction of the wind at 3pm\n",
        "* WindSpeed9am: wind speed (km/hr) averaged over 10 minutes prior to 9am\n",
        "* WindSpeed3pm: wind speed (km/hr) averaged over 10 minutes prior to 3pm\n",
        "* Humidity9am: humidity (percent) at 9am\n",
        "* Humidity3pm: humidity (percent) at 3pm\n",
        "* Pressure9am: atmospheric pressure (hpa) reduced to mean sea level at 9am\n",
        "* Pressure3pm: atmospheric pressure (hpa) reduced to mean sea level at 3pm\n",
        "* Cloud9am: fraction of sky obscured by cloud at 9am. This is measured in \"oktas\", which are a unit of eigths. It records how many\n",
        "* Cloud3pm: fraction of sky obscured by cloud (in \"oktas\": eighths) at 3pm. See Cload9am for a description of the values\n",
        "* Temp9am: temperature (degrees C) at 9am\n",
        "* Temp3pm: temperature (degrees C) at 3pm\n",
        "* RainToday: boolean: 1 if precipitation (mm) in the 24 hours to 9am exceeds 1mm, otherwise 0\n",
        "* RainTomorrow: the amount of next day rain in mm."
      ]
    },
    {
      "cell_type": "code",
      "execution_count": 11,
      "metadata": {
        "id": "hJWsw0FamZPd"
      },
      "outputs": [],
      "source": [
        "import numpy as np\n",
        "import pandas as pd"
      ]
    },
    {
      "cell_type": "code",
      "execution_count": 12,
      "metadata": {
        "id": "pq1891YcmmEm"
      },
      "outputs": [],
      "source": [
        "weather_australia_df=pd.read_csv('weather_australia.csv')"
      ]
    },
    {
      "cell_type": "code",
      "execution_count": 4,
      "metadata": {
        "colab": {
          "base_uri": "https://localhost:8080/"
        },
        "id": "CPz6xKB_ndPu",
        "outputId": "34e36861-75bd-4f59-92d1-74c2d11d8fb4"
      },
      "outputs": [
        {
          "name": "stdout",
          "output_type": "stream",
          "text": [
            "<class 'pandas.core.frame.DataFrame'>\n",
            "RangeIndex: 145460 entries, 0 to 145459\n",
            "Data columns (total 23 columns):\n",
            " #   Column         Non-Null Count   Dtype  \n",
            "---  ------         --------------   -----  \n",
            " 0   Date           145460 non-null  object \n",
            " 1   Location       145460 non-null  object \n",
            " 2   MinTemp        143975 non-null  float64\n",
            " 3   MaxTemp        144199 non-null  float64\n",
            " 4   Rainfall       142199 non-null  float64\n",
            " 5   Evaporation    82670 non-null   float64\n",
            " 6   Sunshine       75625 non-null   float64\n",
            " 7   WindGustDir    135134 non-null  object \n",
            " 8   WindGustSpeed  135197 non-null  float64\n",
            " 9   WindDir9am     134894 non-null  object \n",
            " 10  WindDir3pm     141232 non-null  object \n",
            " 11  WindSpeed9am   143693 non-null  float64\n",
            " 12  WindSpeed3pm   142398 non-null  float64\n",
            " 13  Humidity9am    142806 non-null  float64\n",
            " 14  Humidity3pm    140953 non-null  float64\n",
            " 15  Pressure9am    130395 non-null  float64\n",
            " 16  Pressure3pm    130432 non-null  float64\n",
            " 17  Cloud9am       89572 non-null   float64\n",
            " 18  Cloud3pm       86102 non-null   float64\n",
            " 19  Temp9am        143693 non-null  float64\n",
            " 20  Temp3pm        141851 non-null  float64\n",
            " 21  RainToday      142199 non-null  object \n",
            " 22  RainTomorrow   142193 non-null  object \n",
            "dtypes: float64(16), object(7)\n",
            "memory usage: 25.5+ MB\n"
          ]
        }
      ],
      "source": [
        "weather_australia_df.info()"
      ]
    }
  ],
  "metadata": {
    "colab": {
      "authorship_tag": "ABX9TyNEiWhMBaSlWqCK++sy6l5i",
      "include_colab_link": true,
      "provenance": []
    },
    "kernelspec": {
      "display_name": "Python 3",
      "name": "python3"
    },
    "language_info": {
      "codemirror_mode": {
        "name": "ipython",
        "version": 3
      },
      "file_extension": ".py",
      "mimetype": "text/x-python",
      "name": "python",
      "nbconvert_exporter": "python",
      "pygments_lexer": "ipython3",
      "version": "3.11.0"
    }
  },
  "nbformat": 4,
  "nbformat_minor": 0
}
