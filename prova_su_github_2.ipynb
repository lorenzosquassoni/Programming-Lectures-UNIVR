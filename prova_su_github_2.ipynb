{
  "nbformat": 4,
  "nbformat_minor": 0,
  "metadata": {
    "colab": {
      "provenance": [],
      "authorship_tag": "ABX9TyP6ZTrBf/8G7c90NJbijKLa",
      "include_colab_link": true
    },
    "kernelspec": {
      "name": "python3",
      "display_name": "Python 3"
    },
    "language_info": {
      "name": "python"
    }
  },
  "cells": [
    {
      "cell_type": "markdown",
      "metadata": {
        "id": "view-in-github",
        "colab_type": "text"
      },
      "source": [
        "<a href=\"https://colab.research.google.com/github/lorenzosquassoni/Programming-Lectures-UNIVR/blob/main/prova_su_github_2.ipynb\" target=\"_parent\"><img src=\"https://colab.research.google.com/assets/colab-badge.svg\" alt=\"Open In Colab\"/></a>"
      ]
    },
    {
      "cell_type": "code",
      "execution_count": null,
      "metadata": {
        "id": "Z5rWoEkvsjrw"
      },
      "outputs": [],
      "source": [
        "#prova n 2"
      ]
    },
    {
      "cell_type": "code",
      "source": [
        "#proviamo a vedere se salva le modifiche"
      ],
      "metadata": {
        "id": "4o2AaUs9srfp"
      },
      "execution_count": null,
      "outputs": []
    },
    {
      "cell_type": "code",
      "source": [
        "a=3\n",
        "b=4\n"
      ],
      "metadata": {
        "id": "XRx-v1BAtKfX"
      },
      "execution_count": null,
      "outputs": []
    }
  ]
}