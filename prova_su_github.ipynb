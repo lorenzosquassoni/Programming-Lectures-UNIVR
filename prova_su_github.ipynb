{
  "nbformat": 4,
  "nbformat_minor": 0,
  "metadata": {
    "colab": {
      "provenance": [],
      "authorship_tag": "ABX9TyMTVQif1xT7q/dbtCL6NIG1",
      "include_colab_link": true
    },
    "kernelspec": {
      "name": "python3",
      "display_name": "Python 3"
    },
    "language_info": {
      "name": "python"
    }
  },
  "cells": [
    {
      "cell_type": "markdown",
      "metadata": {
        "id": "view-in-github",
        "colab_type": "text"
      },
      "source": [
        "<a href=\"https://colab.research.google.com/github/lorenzosquassoni/Programming-Lectures-UNIVR/blob/main/prova_su_github.ipynb\" target=\"_parent\"><img src=\"https://colab.research.google.com/assets/colab-badge.svg\" alt=\"Open In Colab\"/></a>"
      ]
    },
    {
      "cell_type": "code",
      "execution_count": 1,
      "metadata": {
        "id": "04-7mWxirlZ_"
      },
      "outputs": [],
      "source": [
        "#prova caricamento su hithub\n",
        "\n",
        "\n",
        "\n"
      ]
    },
    {
      "cell_type": "code",
      "source": [
        "#proviamo a vedere se aggiorna le modifiche"
      ],
      "metadata": {
        "id": "NoQ6FCyCs-23"
      },
      "execution_count": 2,
      "outputs": []
    },
    {
      "cell_type": "code",
      "source": [],
      "metadata": {
        "id": "4vPvYnFCtAyk"
      },
      "execution_count": null,
      "outputs": []
    }
  ]
}